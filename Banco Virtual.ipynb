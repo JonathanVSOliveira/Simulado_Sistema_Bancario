{
  "nbformat": 4,
  "nbformat_minor": 0,
  "metadata": {
    "colab": {
      "provenance": [],
      "authorship_tag": "ABX9TyMuhui5bW7f67pOnF8NrRke",
      "include_colab_link": true
    },
    "kernelspec": {
      "name": "python3",
      "display_name": "Python 3"
    },
    "language_info": {
      "name": "python"
    }
  },
  "cells": [
    {
      "cell_type": "markdown",
      "metadata": {
        "id": "view-in-github",
        "colab_type": "text"
      },
      "source": [
        "<a href=\"https://colab.research.google.com/github/JonathanVSOliveira/Simulado_Sistema_Bancario/blob/main/Banco%20Virtual.ipynb\" target=\"_parent\"><img src=\"https://colab.research.google.com/assets/colab-badge.svg\" alt=\"Open In Colab\"/></a>"
      ]
    },
    {
      "cell_type": "code",
      "execution_count": null,
      "metadata": {
        "id": "k3_vm4d7Pfdc",
        "colab": {
          "base_uri": "https://localhost:8080/"
        },
        "outputId": "bf22318d-f43e-4053-fb50-4c11c1acf088"
      },
      "outputs": [
        {
          "output_type": "stream",
          "name": "stdout",
          "text": [
            "Olá! Bem vindo ao seu banco virtual\n",
            "----------------------------------.\n",
            "1 - Consultar Saldo\n",
            "2 - Depositar\n",
            "3 - Sacar\n",
            "4 - Sair\n",
            "----------------------------------.\n"
          ]
        }
      ],
      "source": [
        "import datetime\n",
        "\n",
        "# Variáveis globais\n",
        "saldo = 2860.00  # Saldo inicial\n",
        "extrato = [\n",
        "    {\"data\": \"14/05/2025 18:19:45\", \"operacao\": \"Depósito\", \"valor\": 1500.00},\n",
        "    {\"data\": \"14/05/2025 18:19:53\", \"operacao\": \"Depósito\", \"valor\": 500.00},\n",
        "    {\"data\": \"14/05/2025 18:21:38\", \"operacao\": \"Saque\", \"valor\": -150.00},\n",
        "    {\"data\": \"14/05/2025 18:21:54\", \"operacao\": \"Depósito\", \"valor\": 10.00}\n",
        "]\n",
        "\n",
        "# Função para obter data e hora atual\n",
        "def data_hora_atual():\n",
        "    return datetime.datetime.now().strftime(\"%d/%m/%Y %H:%M:%S\")\n",
        "\n",
        "# Função para exibir o extrato\n",
        "def exibir_extrato():\n",
        "    print(\"\\n--- Extrato Bancário ---\")\n",
        "    for movimento in extrato:\n",
        "        tipo = movimento[\"operacao\"]\n",
        "        valor = movimento[\"valor\"]\n",
        "        print(f\"{movimento['data']} - {tipo}: R$ {valor:.2f}\")\n",
        "    print(f\"Saldo atual: R$ {saldo:.2f}\\n\")\n",
        "\n",
        "# Função para consultar saldo\n",
        "def consultar_saldo():\n",
        "    print(f\"\\nSaldo atual: R$ {saldo:.2f}\\n\")\n",
        "\n",
        "# Função para depositar\n",
        "def depositar():\n",
        "    global saldo\n",
        "    try:\n",
        "        valor = float(input(\"Digite o valor do depósito: R$ \"))\n",
        "        if valor <= 0:\n",
        "            print(\"Valor inválido para depósito.\\n\")\n",
        "            return\n",
        "        saldo += valor\n",
        "        extrato.append({\"data\": data_hora_atual(), \"operacao\": \"Depósito\", \"valor\": valor})\n",
        "        print(f\"Depósito de R$ {valor:.2f} realizado com sucesso.\\n\")\n",
        "    except ValueError:\n",
        "        print(\"Entrada inválida. Use apenas números.\\n\")\n",
        "\n",
        "# Função para sacar\n",
        "def sacar():\n",
        "    global saldo\n",
        "    try:\n",
        "        valor = float(input(\"Digite o valor do saque: R$ \"))\n",
        "        if valor <= 0:\n",
        "            print(\"Valor inválido para saque.\\n\")\n",
        "            return\n",
        "        if valor > saldo:\n",
        "            print(\"Saldo insuficiente para realizar o saque.\\n\")\n",
        "            return\n",
        "        saldo -= valor\n",
        "        extrato.append({\"data\": data_hora_atual(), \"operacao\": \"Saque\", \"valor\": -valor})\n",
        "        print(f\"Saque de R$ {valor:.2f} realizado com sucesso.\\n\")\n",
        "    except ValueError:\n",
        "        print(\"Entrada inválida. Use apenas números.\\n\")\n",
        "\n",
        "# Função para transferir\n",
        "def transferir():\n",
        "    global saldo\n",
        "    conta_destino = input(\"Digite o número da conta do destinatário: \")\n",
        "    try:\n",
        "        valor = float(input(\"Digite o valor a transferir: R$ \"))\n",
        "        if valor <= 0:\n",
        "            print(\"Valor inválido para transferência.\\n\")\n",
        "            return\n",
        "        if valor > saldo:\n",
        "            print(\"Saldo insuficiente para realizar a transferência.\\n\")\n",
        "            return\n",
        "        saldo -= valor\n",
        "        extrato.append({\"data\": data_hora_atual(), \"operacao\": \"Transferência\", \"valor\": -valor})\n",
        "        print(f\"\\nTransferência de R$ {valor:.2f} realizada com sucesso para a conta {conta_destino}.\")\n",
        "        print(f\"Seu novo saldo é: R$ {saldo:.2f}\\n\")\n",
        "    except ValueError:\n",
        "        print(\"Entrada inválida. Use apenas números.\\n\")\n",
        "\n",
        "# Função principal de menu\n",
        "def menu():\n",
        "    while True:\n",
        "        print(\"--- Bem-vindo ao seu banco virtual ---\")\n",
        "        print(\"1 - Consultar Saldo\")\n",
        "        print(\"2 - Depositar\")\n",
        "        print(\"3 - Sacar\")\n",
        "        print(\"4 - Exibir Extrato\")\n",
        "        print(\"5 - Transferir\")\n",
        "        print(\"6 - Sair\")\n",
        "        opcao = input(\"Digite a opção desejada: \")\n",
        "\n",
        "        if opcao == \"1\":\n",
        "            consultar_saldo()\n",
        "        elif opcao == \"2\":\n",
        "            depositar()\n",
        "        elif opcao == \"3\":\n",
        "            sacar()\n",
        "        elif opcao == \"4\":\n",
        "            exibir_extrato()\n",
        "        elif opcao == \"5\":\n",
        "            transferir()\n",
        "        elif opcao == \"6\":\n",
        "            print(\"Obrigado por usar nosso sistema bancário. Saindo...\\n\")\n",
        "            break\n",
        "        else:\n",
        "            print(\"Opção inválida. Tente novamente.\\n\")\n",
        "\n",
        "# Iniciar o sistema\n",
        "menu()"
      ]
    }
  ]
}
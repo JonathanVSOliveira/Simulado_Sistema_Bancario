{
  "nbformat": 4,
  "nbformat_minor": 0,
  "metadata": {
    "colab": {
      "provenance": [],
      "authorship_tag": "ABX9TyOpB8lchgVvUdk94bM0q2xN",
      "include_colab_link": true
    },
    "kernelspec": {
      "name": "python3",
      "display_name": "Python 3"
    },
    "language_info": {
      "name": "python"
    }
  },
  "cells": [
    {
      "cell_type": "markdown",
      "metadata": {
        "id": "view-in-github",
        "colab_type": "text"
      },
      "source": [
        "<a href=\"https://colab.research.google.com/github/JonathanVSOliveira/Simulado_Sistema_Bancario/blob/main/Simulando_Sistema_Bancario.ipynb\" target=\"_parent\"><img src=\"https://colab.research.google.com/assets/colab-badge.svg\" alt=\"Open In Colab\"/></a>"
      ]
    },
    {
      "cell_type": "code",
      "execution_count": null,
      "metadata": {
        "id": "k3_vm4d7Pfdc",
        "colab": {
          "base_uri": "https://localhost:8080/"
        },
        "outputId": "bf22318d-f43e-4053-fb50-4c11c1acf088"
      },
      "outputs": [
        {
          "output_type": "stream",
          "name": "stdout",
          "text": [
            "Olá! Bem vindo ao seu banco virtual\n",
            "----------------------------------.\n",
            "1 - Consultar Saldo\n",
            "2 - Depositar\n",
            "3 - Sacar\n",
            "4 - Sair\n",
            "----------------------------------.\n"
          ]
        }
      ],
      "source": [
        "# Passo 01: Criar variáveis para representar o saldo e a opção do menu\n",
        "saldo = 0.0 # Saldo inicial (você pode alterar este valor)\n",
        "opcao = 0\n",
        "\n",
        "# Passo 02: Exibir uma mensagem de boas-vindas e as opções do menu\n",
        "print(\"Olá! Bem vindo ao seu banco virtual\")\n",
        "print(\"----------------------------------.\")\n",
        "print(\"1 - Consultar Saldo\")\n",
        "print(\"2 - Depositar\")\n",
        "print(\"3 - Sacar\")\n",
        "print(\"4 - Sair\")\n",
        "print(\"----------------------------------.\")\n",
        "\n",
        "# Passo 03: Ler a opção do usuário\n",
        "opcao_str = input(\"Digite a opção desejada: \")\n",
        "\n",
        "# Passo 04: Validar a opção do usuário usando um laço while\n",
        "while not opcao_str.isdigit() or not (1 <= opcao <= 4):\n",
        "    print(\"Opcao invalida. Por favor, digite uma opcao valida.\")\n",
        "    opcao_str = input(\"Digite a opcao desejada: \")\n",
        "\n",
        "    opcao = int(opcao_str)\n",
        "\n",
        "# Aqui você pode adicionar a lógica para cada opção do menu\n",
        "if opcao == 1:\n",
        "    print(f\"Seu saldo é de R$ {saldo:.2f}\")\n",
        "elif opcao == 2:\n",
        "    valor_str = input(\"Digite o valor depositado: \")\n",
        "    valor = float(valor_str)\n",
        "    saldo += valor\n",
        "    print(f\"Deposito de R$ {valor:.2f} realizado com sucesso!\")\n",
        "elif opcao == 3:\n",
        "    valor_saque = input(\"Digite o valor a sacar: R$ \")\n",
        "    if valor_saque <= saldo:\n",
        "        saldo -= valor_saque\n",
        "        print(f\"Saque de R$ {valor_saque:.2f} realizado com sucesso.\")\n",
        "        print(f\"Seu novo saldo é R$ {saldo:.2f}\")\n",
        "    else:\n",
        "        print(\"Saldo insuficiente.\")\n",
        "elif opcao == 4:\n",
        "    print(\"Obrigado por utilizar nosso banco virtual!\")"
      ]
    }
  ]
}
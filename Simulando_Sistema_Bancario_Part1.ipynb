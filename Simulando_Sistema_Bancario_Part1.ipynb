{
  "nbformat": 4,
  "nbformat_minor": 0,
  "metadata": {
    "colab": {
      "provenance": [],
      "authorship_tag": "ABX9TyOJ3+NoFFyLBsMd6C5AX9oD",
      "include_colab_link": true
    },
    "kernelspec": {
      "name": "python3",
      "display_name": "Python 3"
    },
    "language_info": {
      "name": "python"
    }
  },
  "cells": [
    {
      "cell_type": "markdown",
      "metadata": {
        "id": "view-in-github",
        "colab_type": "text"
      },
      "source": [
        "<a href=\"https://colab.research.google.com/github/JonathanVSOliveira/Simulado_Sistema_Bancario/blob/main/Simulando_Sistema_Bancario_Part1.ipynb\" target=\"_parent\"><img src=\"https://colab.research.google.com/assets/colab-badge.svg\" alt=\"Open In Colab\"/></a>"
      ]
    },
    {
      "cell_type": "code",
      "execution_count": null,
      "metadata": {
        "id": "k3_vm4d7Pfdc",
        "colab": {
          "base_uri": "https://localhost:8080/"
        },
        "outputId": "0c2b3ebd-110f-44d6-c11a-1c49c29749c4"
      },
      "outputs": [
        {
          "output_type": "stream",
          "name": "stdout",
          "text": [
            "Olá! Bem vindo ao seu banco virtual\n",
            "----------------------------------.\n",
            "1 - Consultar Saldo\n",
            "2 - Depositar\n",
            "3 - Sacar\n",
            "4 - Sair\n",
            "----------------------------------.\n"
          ]
        }
      ],
      "source": [
        "saldo = 1000.0 #Saldo inicial  (você pode alterar este valor)\n",
        "\n",
        "def consultar_saldo():\n",
        "    \"\"\"Exibe o saldo atual.\"\"\"\n",
        "    print(f\"Seu saldo atual é R$ {saldo:.2f}\")\n",
        "\n",
        "def sacar():\n",
        "    \"\"\"Realiza a operação de saque\"\"\"\n",
        "    global saldo # Indica que estamos modificando a variável global SALDO\n",
        "    valor_saque = float(input(\"Digite o valor a sacar: R$ \"))\n",
        "    if valor_saque <= saldo:\n",
        "        saldo -= valor_saque\n",
        "        print(f\"Saque de R$ {valor_saque:.2f} realizado com sucesso!\")\n",
        "    else:\n",
        "        print(\"Saldo insuficiente.\")\n",
        "\n",
        "def depositar():\n",
        "    \"\"\"Realiza a operação de depósito\"\"\"\n",
        "    global saldo # Indica que estamos modificando a variável global SALDO\n",
        "    valor_deposito = float(input(\"Digite o valor a depositar: R$ \"))\n",
        "    saldo += valor_deposito\n",
        "    print(f\"Deposito de R$ {valor_deposito:.2f} realizado com sucesso!\")\n",
        "\n",
        "# Exibir uma mensagem de boas-vindas e as opções do menu\n",
        "print(\"Olá! Bem vindo ao seu banco virtual\")\n",
        "print(\"----------------------------------.\")\n",
        "print(\"1 - Consultar Saldo\")\n",
        "print(\"2 - Depositar\")\n",
        "print(\"3 - Sacar\")\n",
        "print(\"4 - Sair\")\n",
        "print(\"----------------------------------.\")\n",
        "\n",
        "# Ler a opção do usuário\n",
        "opcao_str = input(\"Digite a opção desejada: \")\n",
        "\n",
        "# Validar a opção do usuário usando um laço while\n",
        "while not opcao_str.isdigit() or not (1 <= opcao <= 4):\n",
        "    print(\"Opcao invalida. Por favor, digite uma opcao valida.\")\n",
        "    opcao_str = input(\"Digite a opcao desejada: \")\n",
        "\n",
        "    opcao = int(opcao_str)\n",
        "\n",
        "# Executar a ação com base na opção do usuário\n",
        "if opcao == 1:\n",
        "    consultar_saldo()\n",
        "elif opcao == 2:\n",
        "    depositar()\n",
        "elif opcao == 3:\n",
        "    sacar()\n",
        "elif opcao == 4:\n",
        "    print(\"Obrigado por utilizar nosso banco virtual!\")"
      ]
    }
  ]
}